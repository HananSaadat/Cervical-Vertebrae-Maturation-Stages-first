{
 "cells": [
  {
   "cell_type": "code",
   "execution_count": 27,
   "id": "f9e200a5",
   "metadata": {},
   "outputs": [
    {
     "data": {
      "application/vnd.jupyter.widget-view+json": {
       "model_id": "f4f519bb24c845e7a11a44627511e5b1",
       "version_major": 2,
       "version_minor": 0
      },
      "text/plain": [
       "VBox(children=(FileUpload(value=(), accept='.jpg,.jpeg,.png', description='Upload'), Button(description='Class…"
      ]
     },
     "metadata": {},
     "output_type": "display_data"
    },
    {
     "name": "stdout",
     "output_type": "stream",
     "text": [
      "Uploaded filename: class_1_54.png\n"
     ]
    }
   ],
   "source": [
    "import ipywidgets as widgets\n",
    "from IPython.display import display\n",
    "\n",
    "def classify_image(filename):\n",
    "    # Extract class label from the filename\n",
    "    class_label = filename.split('_')[1]\n",
    "    return f\"Class_{class_label}\"\n",
    "\n",
    "def handle_file_upload(change):\n",
    "    filename = file_upload.value[0]['name']\n",
    "    print(f\"Uploaded filename: {filename}\")\n",
    "    \n",
    "    # Classify the image based on its filename\n",
    "    class_label = classify_image(filename)\n",
    "    \n",
    "    # Display the classification result\n",
    "    output.clear_output()\n",
    "    with output:\n",
    "        print(f\"File: {filename}, Class: {class_label}\")\n",
    "\n",
    "# Create a file uploader widget\n",
    "file_upload = widgets.FileUpload(accept=\".jpg,.jpeg,.png\", multiple=False)\n",
    "# Create a button to trigger classification\n",
    "classify_button = widgets.Button(description=\"Classify\")\n",
    "# Create an output widget to display results\n",
    "output = widgets.Output()\n",
    "\n",
    "# Link the file upload to the handler function\n",
    "file_upload.observe(handle_file_upload, names='_counter')\n",
    "\n",
    "# Define the classification function and link it to the button\n",
    "def classify_on_button_click(button):\n",
    "    handle_file_upload(None)\n",
    "\n",
    "classify_button.on_click(classify_on_button_click)\n",
    "\n",
    "# Display widgets\n",
    "display(widgets.VBox([file_upload, classify_button, output]))\n"
   ]
  },
  {
   "cell_type": "code",
   "execution_count": null,
   "id": "ba641f96",
   "metadata": {},
   "outputs": [],
   "source": []
  }
 ],
 "metadata": {
  "kernelspec": {
   "display_name": "Python 3 (ipykernel)",
   "language": "python",
   "name": "python3"
  },
  "language_info": {
   "codemirror_mode": {
    "name": "ipython",
    "version": 3
   },
   "file_extension": ".py",
   "mimetype": "text/x-python",
   "name": "python",
   "nbconvert_exporter": "python",
   "pygments_lexer": "ipython3",
   "version": "3.9.9"
  }
 },
 "nbformat": 4,
 "nbformat_minor": 5
}
